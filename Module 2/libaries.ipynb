{
 "cells": [
  {
   "cell_type": "markdown",
   "id": "7d008470",
   "metadata": {},
   "source": [
    "Optional Lab: Python, NumPy and Vectorization\n",
    "A brief introduction to some of the scientific computing used in this course. In particular the NumPy scientific computing package and its use with python.\n",
    "\n",
    "Outline\n",
    "  1.1 Goals\n",
    "  1.2 Useful References\n",
    "2 Python and NumPy\n",
    "3 Vectors\n",
    "  3.1 Abstract\n",
    "  3.2 NumPy Arrays\n",
    "  3.3 Vector Creation\n",
    "  3.4 Operations on Vectors\n",
    "4 Matrices\n",
    "  4.1 Abstract\n",
    "  4.2 NumPy Arrays\n",
    "  4.3 Matrix Creation\n",
    "  4.4 Operations on Matrices"
   ]
  },
  {
   "cell_type": "code",
   "execution_count": 1,
   "id": "a6de93ae",
   "metadata": {},
   "outputs": [],
   "source": [
    "import numpy as np\n",
    "import time"
   ]
  },
  {
   "cell_type": "markdown",
   "id": "a6c2d8bb",
   "metadata": {},
   "source": [
    "1.1 Goals\n",
    "In this lab, you will:\n",
    "\n",
    "Review the features of NumPy and Python that are used in Course 1"
   ]
  },
  {
   "cell_type": "markdown",
   "id": "3cdf3c4e",
   "metadata": {},
   "source": [
    "<a name=\"toc_40015_1.2\"></a>\n",
    "## 1.2 Useful References\n",
    "- NumPy Documentation including a basic introduction: [NumPy.org](https://NumPy.org/doc/stable/)\n",
    "- A challenging feature topic: [NumPy Broadcasting](https://NumPy.org/doc/stable/user/basics.broadcasting.html)"
   ]
  },
  {
   "cell_type": "markdown",
   "id": "2a3089f8",
   "metadata": {},
   "source": [
    "<a name=\"toc_40015_2\"></a>\n",
    "# 2 Python and NumPy <a name='Python and NumPy'></a>\n",
    "Python is the programming language we will be using in this course. It has a set of numeric data types and arithmetic operations. NumPy is a library that extends the base capabilities of python to add a richer data set including more numeric types, vectors, matrices, and many matrix functions. NumPy and python  work together fairly seamlessly. Python arithmetic operators work on NumPy data types and many NumPy functions will accept python data types.\n"
   ]
  },
  {
   "cell_type": "code",
   "execution_count": 2,
   "id": "8c85face",
   "metadata": {},
   "outputs": [
    {
     "name": "stdout",
     "output_type": "stream",
     "text": [
      "np.zeros(4): a=[0. 0. 0. 0.] a.shape=(4,) a.d type = float64\n"
     ]
    }
   ],
   "source": [
    "a=np.zeros(4)\n",
    "print(f\"np.zeros(4): a={a} a.shape={a.shape} a.d type = {a.dtype}\")"
   ]
  },
  {
   "cell_type": "code",
   "execution_count": 5,
   "id": "41837903",
   "metadata": {},
   "outputs": [
    {
     "name": "stdout",
     "output_type": "stream",
     "text": [
      "np.zeros((4,)): a=[1. 1. 1. 1.] a.shape=(4,) a.d type = float64\n"
     ]
    }
   ],
   "source": [
    "a=np.ones((4,))\n",
    "print(f\"np.zeros((4,)): a={a} a.shape={a.shape} a.d type = {a.dtype}\")"
   ]
  },
  {
   "cell_type": "code",
   "execution_count": 9,
   "id": "214f31a5",
   "metadata": {},
   "outputs": [
    {
     "name": "stdout",
     "output_type": "stream",
     "text": [
      "np.random.random_sample(4): a = [0.34015633 0.715497   0.79317589 0.10057537], a shape = (4,), a data type = float64\n"
     ]
    }
   ],
   "source": [
    "a = np.random.random_sample((4,)); \n",
    "print(f\"np.random.random_sample(4): a = {a}, a shape = {a.shape}, a data type = {a.dtype}\")"
   ]
  },
  {
   "cell_type": "code",
   "execution_count": null,
   "id": "8a98cc37",
   "metadata": {},
   "outputs": [
    {
     "name": "stdout",
     "output_type": "stream",
     "text": [
      "np.arange((4)): a=[0. 1. 2.] a.shape=(3,) a.d type = float64\n"
     ]
    }
   ],
   "source": [
    "a=np.arange(3.)\n",
    "print(f\"np.arange((4)): a={a} a.shape={a.shape} a.d type = {a.dtype}\")"
   ]
  },
  {
   "cell_type": "code",
   "execution_count": 18,
   "id": "9e053ea0",
   "metadata": {},
   "outputs": [
    {
     "name": "stdout",
     "output_type": "stream",
     "text": [
      "np.random.rand((4)): a=[0.26301557 0.51430921 0.83304075 0.32359077] a.shape=(4,) a.d type = float64\n"
     ]
    }
   ],
   "source": [
    "a=np.random.rand(4)\n",
    "print(f\"np.random.rand((4)): a={a} a.shape={a.shape} a.d type = {a.dtype}\")"
   ]
  },
  {
   "cell_type": "code",
   "execution_count": 22,
   "id": "4b12827a",
   "metadata": {},
   "outputs": [
    {
     "name": "stdout",
     "output_type": "stream",
     "text": [
      "np.array([5,4,3,2]):  a = [5 4 3 2],     a shape = (4,), a data type = int64\n",
      "np.array([5.,4,3,2]): a = [5. 4. 3. 2.], a shape = (4,), a data type = float64\n"
     ]
    }
   ],
   "source": [
    "# NumPy routines which allocate memory and fill with user specified values\n",
    "a = np.array([5,4,3,2]);  print(f\"np.array([5,4,3,2]):  a = {a},     a shape = {a.shape}, a data type = {a.dtype}\")\n",
    "a = np.array([5,4,3.,2]); print(f\"np.array([5.,4,3,2]): a = {a}, a shape = {a.shape}, a data type = {a.dtype}\")"
   ]
  },
  {
   "cell_type": "code",
   "execution_count": 29,
   "id": "2a33b28b",
   "metadata": {},
   "outputs": [
    {
     "name": "stdout",
     "output_type": "stream",
     "text": [
      "[0 1 2 3 4 5 6 7 8 9]\n",
      "a[2].shape=() a[2]=2\n",
      "a[-1]=9\n",
      "This is casuing error\n",
      "index 11 is out of bounds for axis 0 with size 10\n"
     ]
    }
   ],
   "source": [
    "a=np.arange(10)\n",
    "print(a)\n",
    "print(f\"a[2].shape={a[2].shape} a[2]={a[2]}\")\n",
    "print(f'a[-1]={a[-1]}')\n",
    "\n",
    "try:\n",
    "    c= a[11]\n",
    "except Exception as e:\n",
    "    print(\"This is casuing error\")\n",
    "    print(e)\n"
   ]
  },
  {
   "cell_type": "code",
   "execution_count": 46,
   "id": "02709030",
   "metadata": {},
   "outputs": [
    {
     "name": "stdout",
     "output_type": "stream",
     "text": [
      "a        =[ 0  1  2  3  4  5  6  7  8  9 10 11 12 13 14 15 16 17 18 19]\n",
      "a[2:7:1] =[2 3 4 5 6]\n",
      "a[2:20:2]=[ 2  6 10 14 18]\n",
      "a[3:]    =[ 3  4  5  6  7  8  9 10 11 12 13 14 15 16 17 18 19]\n",
      "a[:3]    =[0 1 2]\n",
      "a[:]     =[ 0  1  2  3  4  5  6  7  8  9 10 11 12 13 14 15 16 17 18 19]\n",
      "a[-2:]     =[18 19]\n",
      "a[:-2]     =[ 0  1  2  3  4  5  6  7  8  9 10 11 12 13 14 15 16 17]\n",
      "a[:-2:2]     =[ 0  2  4  6  8 10 12 14 16]\n"
     ]
    }
   ],
   "source": [
    "a = np.arange(20)\n",
    "print(f'a        ={a}')\n",
    "print(f'a[2:7:1] ={a[2:7:1]}')\n",
    "print(f'a[2:20:2]={a[2:20:4]}')\n",
    "print(f'a[3:]    ={a[3:]}')\n",
    "print(f'a[:3]    ={a[:3]}')\n",
    "print(f'a[:]     ={a[:]}')\n",
    "print(f'a[-2:]     ={a[-2:]}')\n",
    "print(f'a[:-2]     ={a[:-2]}')\n",
    "print(f'a[:-2:2]     ={a[:-2:2]}')"
   ]
  },
  {
   "cell_type": "code",
   "execution_count": 65,
   "id": "c8de2bb8",
   "metadata": {},
   "outputs": [
    {
     "name": "stdout",
     "output_type": "stream",
     "text": [
      "a=      [3 4 2 1]\n",
      "b=      [-3 -4 -2 -1]\n",
      "b=      10\n",
      "b=      4\n",
      "b=      2.5\n",
      "b=      [ 9 16  4  1]\n",
      "a=      [1 2 3 4]\n"
     ]
    }
   ],
   "source": [
    "a=np.array([3,4,2,1])\n",
    "print(f\"a=      {a}\")\n",
    "b=-a\n",
    "print(f'b=      {b}')\n",
    "b=np.sum(a)\n",
    "print(f'b=      {b}')\n",
    "b=a.shape[0]\n",
    "print(f'b=      {b}')\n",
    "b=a.mean()\n",
    "# b=np.mean(a)\n",
    "print(f'b=      {b}')\n",
    "b= a**2\n",
    "print(f'b=      {b}')\n",
    "b=a.sort()\n",
    "print(f'a=      {a}')\n"
   ]
  },
  {
   "cell_type": "code",
   "execution_count": null,
   "id": "ef46226a",
   "metadata": {},
   "outputs": [
    {
     "ename": "IndentationError",
     "evalue": "unexpected indent (2392898808.py, line 6)",
     "output_type": "error",
     "traceback": [
      "  \u001b[36mCell\u001b[39m\u001b[36m \u001b[39m\u001b[32mIn[70]\u001b[39m\u001b[32m, line 6\u001b[39m\n\u001b[31m    \u001b[39m\u001b[31mprint(f\"binary addition element wise: a+c={a+c}\")\u001b[39m\n    ^\n\u001b[31mIndentationError\u001b[39m\u001b[31m:\u001b[39m unexpected indent\n"
     ]
    }
   ],
   "source": [
    "a=np.array([3,2,1,-3])\n",
    "b=np.array([3,2,-9,3])\n",
    "c=np.array([3,2])\n",
    "print(f\"binary addition element wise: a+b={a+b}\")\n",
    "try:\n",
    "    print(f\"binary addition element wise: a+c={a+c}\")\n",
    "except Exception as e:\n",
    "    print(f\"Not possible bcz : {e}\")"
   ]
  },
  {
   "cell_type": "code",
   "execution_count": null,
   "id": "6ed3abff",
   "metadata": {},
   "outputs": [],
   "source": []
  }
 ],
 "metadata": {
  "kernelspec": {
   "display_name": "Python 3",
   "language": "python",
   "name": "python3"
  },
  "language_info": {
   "codemirror_mode": {
    "name": "ipython",
    "version": 3
   },
   "file_extension": ".py",
   "mimetype": "text/x-python",
   "name": "python",
   "nbconvert_exporter": "python",
   "pygments_lexer": "ipython3",
   "version": "3.13.5"
  }
 },
 "nbformat": 4,
 "nbformat_minor": 5
}
