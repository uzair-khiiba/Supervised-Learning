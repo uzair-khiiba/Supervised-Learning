{
 "cells": [
  {
   "cell_type": "code",
   "execution_count": 2,
   "id": "c84f9b2a",
   "metadata": {},
   "outputs": [],
   "source": [
    "import copy , math , numpy as np, matplotlib.pyplot as plt\n",
    "plt.style.use('./deeplearning.mplstyle')\n"
   ]
  },
  {
   "cell_type": "code",
   "execution_count": 3,
   "id": "ac8ed160",
   "metadata": {},
   "outputs": [],
   "source": [
    "np.set_printoptions(precision=2)"
   ]
  },
  {
   "cell_type": "code",
   "execution_count": 6,
   "id": "15397431",
   "metadata": {},
   "outputs": [],
   "source": [
    "X_train = np.array([[2104, 5, 1, 45], [1416, 3, 2, 40], [852, 2, 1, 35]])\n",
    "y_train = np.array([460, 232, 178])"
   ]
  },
  {
   "cell_type": "code",
   "execution_count": 7,
   "id": "ffb7ad69",
   "metadata": {},
   "outputs": [
    {
     "name": "stdout",
     "output_type": "stream",
     "text": [
      "X shape= (3, 4) \t X type = <class 'numpy.ndarray'>\n",
      "y shape= (3,) \t y type = <class 'numpy.ndarray'>\n"
     ]
    }
   ],
   "source": [
    "print(f\"X shape= {X_train.shape} \\t X type = {type(X_train)}\")\n",
    "print(f\"y shape= {y_train.shape} \\t y type = {type(y_train)}\")"
   ]
  },
  {
   "cell_type": "code",
   "execution_count": 8,
   "id": "17817b60",
   "metadata": {},
   "outputs": [
    {
     "name": "stdout",
     "output_type": "stream",
     "text": [
      "w_init shape: (4,), b_init type: <class 'float'>\n"
     ]
    }
   ],
   "source": [
    "b_init = 785.1811367994083\n",
    "w_init = np.array([ 0.39133535, 18.75376741, -53.36032453, -26.42131618])\n",
    "print(f\"w_init shape: {w_init.shape}, b_init type: {type(b_init)}\")"
   ]
  },
  {
   "cell_type": "code",
   "execution_count": null,
   "id": "aca0b7cd",
   "metadata": {},
   "outputs": [],
   "source": [
    "#Non Vectorzied\n",
    "def predict_single_loop(x, w, b): \n",
    "    \"\"\"\n",
    "    single predict using linear regression\n",
    "    \n",
    "    Args:\n",
    "      x (ndarray): Shape (n,) example with multiple features\n",
    "      w (ndarray): Shape (n,) model parameters    \n",
    "      b (scalar):  model parameter     \n",
    "      \n",
    "    Returns:\n",
    "      p (scalar):  prediction\n",
    "    \"\"\"\n",
    "    n = x.shape[0]\n",
    "    p = 0\n",
    "    for i in range(n):\n",
    "        p_i = x[i] * w[i]  \n",
    "        p = p + p_i         \n",
    "    p = p + b                \n",
    "    return p"
   ]
  },
  {
   "cell_type": "code",
   "execution_count": null,
   "id": "a446af53",
   "metadata": {},
   "outputs": [
    {
     "name": "stdout",
     "output_type": "stream",
     "text": [
      "1362.961824839408\n"
     ]
    }
   ],
   "source": [
    "data_x = (np.array([1760,4,2,3]))\n",
    "predicted_y = predict_single_loop(data_x,w_init,b_init)\n",
    "print(predicted_y)"
   ]
  },
  {
   "cell_type": "code",
   "execution_count": 16,
   "id": "c49e7fe5",
   "metadata": {},
   "outputs": [
    {
     "name": "stdout",
     "output_type": "stream",
     "text": [
      "first row: [2104    5    1   45] , shape = (4,)\n",
      "Predicted price for first row : 459.9999976194083 And Actual is 460\n"
     ]
    }
   ],
   "source": [
    "first_row = X_train[0,:]\n",
    "print(f\"first row: {first_row} , shape = {first_row.shape}\")\n",
    "predicted_price_first_row = predict_single_loop(first_row,w_init,b_init)\n",
    "print(f\"Predicted price for first row : {predicted_price_first_row} And Actual is {y_train[0]}\")"
   ]
  },
  {
   "cell_type": "code",
   "execution_count": 17,
   "id": "ece022b3",
   "metadata": {},
   "outputs": [],
   "source": [
    "#Vector wali product\n",
    "def predict(x,w,b):\n",
    "    return (np.dot(x,w) + b)"
   ]
  },
  {
   "cell_type": "code",
   "execution_count": 18,
   "id": "f557bddc",
   "metadata": {},
   "outputs": [
    {
     "name": "stdout",
     "output_type": "stream",
     "text": [
      "first row: [2104    5    1   45] , shape = (4,)\n",
      "Predicted price for first row : 459.9999976194083 And Actual is 460\n"
     ]
    }
   ],
   "source": [
    "first_row = X_train[0,:]\n",
    "print(f\"first row: {first_row} , shape = {first_row.shape}\")\n",
    "predicted_price_first_row = predict(first_row,w_init,b_init)\n",
    "print(f\"Predicted price for first row : {predicted_price_first_row} And Actual is {y_train[0]}\")"
   ]
  },
  {
   "cell_type": "code",
   "execution_count": 24,
   "id": "a0491850",
   "metadata": {},
   "outputs": [],
   "source": [
    "def compute_cost(X,y,w,b):\n",
    "    m = X.shape[0]\n",
    "    cost = 0.0\n",
    "    for i in range(0,m):\n",
    "        cost += np.square(predict(X[i],w,b)-y[i])\n",
    "    return cost/(2*m)\n"
   ]
  },
  {
   "cell_type": "code",
   "execution_count": 26,
   "id": "8ccd608d",
   "metadata": {},
   "outputs": [
    {
     "name": "stdout",
     "output_type": "stream",
     "text": [
      "Cost at optimal w : 1.5578904428966628e-12\n"
     ]
    }
   ],
   "source": [
    "# Compute and display cost using our pre-chosen optimal parameters. \n",
    "cost = compute_cost(X_train, y_train, w_init, b_init)\n",
    "print(f'Cost at optimal w : {cost}')"
   ]
  },
  {
   "cell_type": "code",
   "execution_count": 32,
   "id": "53df80f2",
   "metadata": {},
   "outputs": [],
   "source": [
    "def compute_gradient(X,y,w,b):\n",
    "    m,n=X.shape\n",
    "    dj_dw = np.zeros((n,))\n",
    "    dj_db= 0.\n",
    "    for i in range(0,m):\n",
    "        err = (predict(X[i],w,b)-y[i])  \n",
    "        for j in range(0,n):\n",
    "            dj_dw[j] = dj_dw[j] + err*X[i,j]\n",
    "        dj_db = dj_db + err\n",
    "    dj_dw /= m  \n",
    "    dj_db /= m  \n",
    "    return dj_db, dj_dw"
   ]
  },
  {
   "cell_type": "code",
   "execution_count": 33,
   "id": "ed5186c2",
   "metadata": {},
   "outputs": [
    {
     "name": "stdout",
     "output_type": "stream",
     "text": [
      "dj_db at initial w,b: -1.6739251501955248e-06\n",
      "dj_dw at initial w,b: \n",
      " [-2.73e-03 -6.27e-06 -2.22e-06 -6.92e-05]\n"
     ]
    }
   ],
   "source": [
    "tmp_dj_db, tmp_dj_dw = compute_gradient(X_train, y_train, w_init, b_init)\n",
    "print(f'dj_db at initial w,b: {tmp_dj_db}')\n",
    "print(f'dj_dw at initial w,b: \\n {tmp_dj_dw}')"
   ]
  },
  {
   "cell_type": "code",
   "execution_count": null,
   "id": "9c1789e0",
   "metadata": {},
   "outputs": [],
   "source": [
    "def gradient_descent(X,y,w_in,b_in,compute_cost,compute_gradient,alpha,iterations):\n",
    "    J_history = []\n",
    "    w = copy.deepcopy(w_in)\n",
    "    b = b_in\n",
    "    for i in range(iterations):\n",
    "        dj_db,dj_dw = compute_gradient(X,y,w_in,b_in)\n",
    "\n",
    "        w -= alpha*dj_dw \n",
    "        b -= alpha*dj_db\n",
    "        if i<100000:\n",
    "            J_history.append(compute_cost(X,y,w,b))\n",
    "        if i% math.ceil(iterations/10) == 0:\n",
    "            print(f\"Iteration {i:4d}: Cost {J_history[-1]:8.2f} \")\n",
    "            \n",
    "    return w, b, J_history"
   ]
  },
  {
   "cell_type": "code",
   "execution_count": null,
   "id": "12a4c823",
   "metadata": {},
   "outputs": [],
   "source": []
  }
 ],
 "metadata": {
  "kernelspec": {
   "display_name": "Python 3",
   "language": "python",
   "name": "python3"
  },
  "language_info": {
   "codemirror_mode": {
    "name": "ipython",
    "version": 3
   },
   "file_extension": ".py",
   "mimetype": "text/x-python",
   "name": "python",
   "nbconvert_exporter": "python",
   "pygments_lexer": "ipython3",
   "version": "3.13.5"
  }
 },
 "nbformat": 4,
 "nbformat_minor": 5
}
